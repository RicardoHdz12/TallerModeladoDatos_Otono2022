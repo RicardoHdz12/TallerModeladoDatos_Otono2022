{
 "cells": [
  {
   "cell_type": "markdown",
   "metadata": {},
   "source": [
    "___\n",
    "<img style=\"float: right; margin: 0px 0px 15px 15px;\" src=\"https://dinhanhthi.com/img/post/ML/random-forest-decision-tree/r2.jpg\" width=\"350px\" height=\"180px\" />\n",
    "\n",
    "\n",
    "# <font color= #8A0829> Laboratorio de Modelado de Datos </font>\n",
    "#### <font color= #2E9AFE> `Martes y Viernes (Videoconferencia) de 13:00 - 15:00 hrs`</font>\n",
    "- <Strong> Sara Eugenia Rodríguez </Strong>\n",
    "- <Strong> Año </Strong>: 2022\n",
    "- <Strong> Email: </Strong>  <font color=\"blue\"> `cd682324@iteso.mx` </font>\n",
    "___\n",
    "\n",
    "<p style=\"text-align:right;\"> Imagen recuperada de: https://dinhanhthi.com/img/post/ML/random-forest-decision-tree/r2.jpg</p>\n",
    "\n",
    "### <font color= #2E9AFE> Tema: Modelos basados en Árboles</font>"
   ]
  },
  {
   "cell_type": "markdown",
   "metadata": {},
   "source": [
    "Un árbol de decisión es un conjunto de sentencias de la forma: si... entonces...\n",
    "\n",
    "Estas sentencias dividen los datos en una serie de predictores. \n",
    "\n",
    "Estas divisiones de predictores son usadas para estimar la salida del modelo. \n",
    "\n",
    "**Ejemplo:** En un problema con dos predictores 'A' y 'B', un conjunto de sentencias de la forma:\n",
    "\n",
    "Si el predictor 'A' >= 1.7, entonces\n",
    "- Si el predictor B >=200, entonces la predicción = 1.3\n",
    "- De otra forma, la predicción = 2.5\n",
    "\n",
    "Estas sentencias están partiendo los predictores en 3 segmentos donde salidas específicas son definidas. \n",
    "\n",
    "**Estructura del árbol**\n",
    "\n",
    "Toma 3 cosas en cuenta:\n",
    "- Las variables predictoras (X) que se van a usar y el punto de partición del dataset.\n",
    "- La profundidad/complejidad del árbol\n",
    "- La ecuación de predicción en los últimos nodos/hojas del árbol (El promedio)\n",
    "\n",
    "**Hiperparámetros a ajustar**\n",
    "- Profundidad del árbol (max_depth)\n",
    "- Número mínimo de observaciones en cada split(min_samples_split)\n",
    "\n",
    "**Desventajas**\n",
    "\n",
    "- Inestabilidad del modelo: Debido a que las particiones se basan en un conjunto de datos, si se generan cambios en el conjunto de datos, esto genera cambios importantes en la estructura del árbol y especialmente en su interpretabilidad.\n",
    "\n",
    "- Rendimiento predictivo subóptimo. Nuevamente, debido a que las particiones se basan en un conjunto de datos específico, el modelo generalmente no converge con el modelo óptimo global."
   ]
  },
  {
   "cell_type": "code",
   "execution_count": 1,
   "metadata": {},
   "outputs": [],
   "source": [
    "import numpy as np\n",
    "import matplotlib.pyplot as plt\n",
    "from sklearn.tree import DecisionTreeRegressor"
   ]
  },
  {
   "cell_type": "code",
   "execution_count": 2,
   "metadata": {},
   "outputs": [
    {
     "data": {
      "image/png": "[encoded data removed]",
      "text/plain": [
       "<Figure size 864x288 with 3 Axes>"
      ]
     },
     "metadata": {
      "needs_background": "light"
     },
     "output_type": "display_data"
    }
   ],
   "source": [
    "#Generación de datos\n",
    "rng = np.random.RandomState(0)\n",
    "\n",
    "# #############################################################################\n",
    "X = np.zeros((100,3))\n",
    "X[:,0] = 5 * rng.rand(100, 1)[:,0]\n",
    "X[:,1] = 10 * rng.rand(100, 1)[:,0]\n",
    "X[:,2] = 15 * rng.rand(100, 1)[:,0]\n",
    "\n",
    "y = np.ravel(3*X[:,0]-2*X[:,1]+3*X[:,2]-10)\n",
    "# Añadimos ruido a la variable dependiente\n",
    "yrnd = y + 3 * (0.5 - rng.rand(y.shape[0]))\n",
    "\n",
    "\n",
    "plt.figure(figsize=(12,4))\n",
    "plt.subplot(131)\n",
    "plt.scatter(X[:,0], yrnd, c='r', s=10)\n",
    "plt.xlabel('x_p1')\n",
    "plt.ylabel('y')\n",
    "plt.grid()\n",
    "\n",
    "plt.subplot(132)\n",
    "plt.scatter(X[:,1], yrnd, c='r', s=10,zorder=2)\n",
    "plt.xlabel('x_p2')\n",
    "plt.ylabel('y')\n",
    "plt.grid()\n",
    "\n",
    "plt.subplot(133)\n",
    "plt.scatter(X[:,2], yrnd, c='r', s=10, zorder=2)\n",
    "plt.xlabel('x_p3')\n",
    "plt.ylabel('y')\n",
    "plt.grid()\n",
    "\n",
    "plt.tight_layout()\n",
    "plt.show()"
   ]
  },
  {
   "cell_type": "code",
   "execution_count": 3,
   "metadata": {},
   "outputs": [],
   "source": [
    "from sklearn.model_selection import train_test_split\n",
    "\n",
    "X_train, X_test, y_train, y_test = train_test_split(X, yrnd, test_size=0.20,\n",
    "                                                    random_state=0,\n",
    "                                                    shuffle=True)"
   ]
  },
  {
   "cell_type": "markdown",
   "metadata": {},
   "source": [
    "* Nodos --> las preguntas (los cuadros de arriba)\n",
    "* leat --> predicciones\n",
    "* branch --> las lineas de los true false"
   ]
  },
  {
   "cell_type": "markdown",
   "metadata": {},
   "source": [
    "# Solucion a overfitting modelo de arboles\n",
    "* Minimo de observaciones por split\n",
    "* mini sample splits (Hiperparametro) (que no haga muchas reparticiones)\n",
    "* profundidad --> max depht(que tanto crece el arbol)\n",
    "* Gridserch encuentra mejor valor de parametros"
   ]
  },
  {
   "cell_type": "code",
   "execution_count": 4,
   "metadata": {},
   "outputs": [],
   "source": [
    "from sklearn.metrics import mean_squared_error as mse\n",
    "\n",
    "max_depths = range(1, 20)\n",
    "\n",
    "#para todos los datos\n",
    "training_error = []\n",
    "for max_depth in max_depths:\n",
    "    model_1 = DecisionTreeRegressor(max_depth=max_depth)\n",
    "    model_1.fit(X, yrnd)\n",
    "    training_error.append(mse(yrnd, model_1.predict(X)))\n",
    "    \n",
    "\n",
    "#para el train-test    \n",
    "testing_error = []\n",
    "for max_depth in max_depths:\n",
    "    model_2 = DecisionTreeRegressor(max_depth=max_depth)\n",
    "    model_2.fit(X_train, y_train)\n",
    "    testing_error.append(mse(y_test, model_2.predict(X_test)))\n",
    "\n"
   ]
  },
  {
   "cell_type": "code",
   "execution_count": 5,
   "metadata": {},
   "outputs": [
    {
     "data": {
      "text/plain": [
       "<matplotlib.legend.Legend at 0x17e60960850>"
      ]
     },
     "execution_count": 5,
     "metadata": {},
     "output_type": "execute_result"
    },
    {
     "data": {
      "image/png": "[encoded data removed]",
      "text/plain": [
       "<Figure size 432x288 with 1 Axes>"
      ]
     },
     "metadata": {
      "needs_background": "light"
     },
     "output_type": "display_data"
    }
   ],
   "source": [
    "#cómo saber el número óptimo de profundidad?\n",
    "#Una forma es graficando\n",
    "plt.plot(max_depths, training_error, color='blue', label='Training error')\n",
    "plt.plot(max_depths, testing_error, color='green', label='Testing error')\n",
    "plt.xlabel('Tree depth')\n",
    "plt.axvline(x=6, color='orange', linestyle='--')\n",
    "plt.annotate('optimum = 6', xy=(7.5, 1.17), color='red')\n",
    "plt.ylabel('Mean squared error')\n",
    "plt.title('Hyperparameter Tuning', pad=15, size=15)\n",
    "plt.legend()"
   ]
  },
  {
   "cell_type": "code",
   "execution_count": 6,
   "metadata": {},
   "outputs": [
    {
     "name": "stdout",
     "output_type": "stream",
     "text": [
      "{'max_depth': 6, 'min_samples_split': 10}\n"
     ]
    }
   ],
   "source": [
    "#Usando cross validation y grid search\n",
    "from sklearn.model_selection import GridSearchCV\n",
    "\n",
    "model = DecisionTreeRegressor()\n",
    "\n",
    "gs = GridSearchCV(model,\n",
    "                  param_grid = {'max_depth': range(1, 11),\n",
    "                                'min_samples_split': range(10, 60, 10)},\n",
    "                  cv=5,\n",
    "                  scoring='neg_mean_squared_error')\n",
    "\n",
    "gs.fit(X_train, y_train)\n",
    "\n",
    "print(gs.best_params_)"
   ]
  },
  {
   "cell_type": "code",
   "execution_count": 7,
   "metadata": {},
   "outputs": [
    {
     "data": {
      "text/html": [
       "<style>#sk-container-id-1 {color: black;background-color: white;}#sk-container-id-1 pre{padding: 0;}#sk-container-id-1 div.sk-toggleable {background-color: white;}#sk-container-id-1 label.sk-toggleable__label {cursor: pointer;display: block;width: 100%;margin-bottom: 0;padding: 0.3em;box-sizing: border-box;text-align: center;}#sk-container-id-1 label.sk-toggleable__label-arrow:before {content: \"▸\";float: left;margin-right: 0.25em;color: #696969;}#sk-container-id-1 label.sk-toggleable__label-arrow:hover:before {color: black;}#sk-container-id-1 div.sk-estimator:hover label.sk-toggleable__label-arrow:before {color: black;}#sk-container-id-1 div.sk-toggleable__content {max-height: 0;max-width: 0;overflow: hidden;text-align: left;background-color: #f0f8ff;}#sk-container-id-1 div.sk-toggleable__content pre {margin: 0.2em;color: black;border-radius: 0.25em;background-color: #f0f8ff;}#sk-container-id-1 input.sk-toggleable__control:checked~div.sk-toggleable__content {max-height: 200px;max-width: 100%;overflow: auto;}#sk-container-id-1 input.sk-toggleable__control:checked~label.sk-toggleable__label-arrow:before {content: \"▾\";}#sk-container-id-1 div.sk-estimator input.sk-toggleable__control:checked~label.sk-toggleable__label {background-color: #d4ebff;}#sk-container-id-1 div.sk-label input.sk-toggleable__control:checked~label.sk-toggleable__label {background-color: #d4ebff;}#sk-container-id-1 input.sk-hidden--visually {border: 0;clip: rect(1px 1px 1px 1px);clip: rect(1px, 1px, 1px, 1px);height: 1px;margin: -1px;overflow: hidden;padding: 0;position: absolute;width: 1px;}#sk-container-id-1 div.sk-estimator {font-family: monospace;background-color: #f0f8ff;border: 1px dotted black;border-radius: 0.25em;box-sizing: border-box;margin-bottom: 0.5em;}#sk-container-id-1 div.sk-estimator:hover {background-color: #d4ebff;}#sk-container-id-1 div.sk-parallel-item::after {content: \"\";width: 100%;border-bottom: 1px solid gray;flex-grow: 1;}#sk-container-id-1 div.sk-label:hover label.sk-toggleable__label {background-color: #d4ebff;}#sk-container-id-1 div.sk-serial::before {content: \"\";position: absolute;border-left: 1px solid gray;box-sizing: border-box;top: 0;bottom: 0;left: 50%;z-index: 0;}#sk-container-id-1 div.sk-serial {display: flex;flex-direction: column;align-items: center;background-color: white;padding-right: 0.2em;padding-left: 0.2em;position: relative;}#sk-container-id-1 div.sk-item {position: relative;z-index: 1;}#sk-container-id-1 div.sk-parallel {display: flex;align-items: stretch;justify-content: center;background-color: white;position: relative;}#sk-container-id-1 div.sk-item::before, #sk-container-id-1 div.sk-parallel-item::before {content: \"\";position: absolute;border-left: 1px solid gray;box-sizing: border-box;top: 0;bottom: 0;left: 50%;z-index: -1;}#sk-container-id-1 div.sk-parallel-item {display: flex;flex-direction: column;z-index: 1;position: relative;background-color: white;}#sk-container-id-1 div.sk-parallel-item:first-child::after {align-self: flex-end;width: 50%;}#sk-container-id-1 div.sk-parallel-item:last-child::after {align-self: flex-start;width: 50%;}#sk-container-id-1 div.sk-parallel-item:only-child::after {width: 0;}#sk-container-id-1 div.sk-dashed-wrapped {border: 1px dashed gray;margin: 0 0.4em 0.5em 0.4em;box-sizing: border-box;padding-bottom: 0.4em;background-color: white;}#sk-container-id-1 div.sk-label label {font-family: monospace;font-weight: bold;display: inline-block;line-height: 1.2em;}#sk-container-id-1 div.sk-label-container {text-align: center;}#sk-container-id-1 div.sk-container {/* jupyter's `normalize.less` sets `[hidden] { display: none; }` but bootstrap.min.css set `[hidden] { display: none !important; }` so we also need the `!important` here to be able to override the default hidden behavior on the sphinx rendered scikit-learn.org. See: https://github.com/scikit-learn/scikit-learn/issues/21755 */display: inline-block !important;position: relative;}#sk-container-id-1 div.sk-text-repr-fallback {display: none;}</style><div id=\"sk-container-id-1\" class=\"sk-top-container\"><div class=\"sk-text-repr-fallback\"><pre>DecisionTreeRegressor(max_depth=6, min_samples_split=10)</pre><b>In a Jupyter environment, please rerun this cell to show the HTML representation or trust the notebook. <br />On GitHub, the HTML representation is unable to render, please try loading this page with nbviewer.org.</b></div><div class=\"sk-container\" hidden><div class=\"sk-item\"><div class=\"sk-estimator sk-toggleable\"><input class=\"sk-toggleable__control sk-hidden--visually\" id=\"sk-estimator-id-1\" type=\"checkbox\" checked><label for=\"sk-estimator-id-1\" class=\"sk-toggleable__label sk-toggleable__label-arrow\">DecisionTreeRegressor</label><div class=\"sk-toggleable__content\"><pre>DecisionTreeRegressor(max_depth=6, min_samples_split=10)</pre></div></div></div></div></div>"
      ],
      "text/plain": [
       "DecisionTreeRegressor(max_depth=6, min_samples_split=10)"
      ]
     },
     "execution_count": 7,
     "metadata": {},
     "output_type": "execute_result"
    }
   ],
   "source": [
    "#crear modelo usando parámetros óptimos\n",
    "new_model = DecisionTreeRegressor(max_depth=6,\n",
    "                                  min_samples_split=10)\n",
    "new_model.fit(X_train, y_train)"
   ]
  },
  {
   "cell_type": "code",
   "execution_count": 8,
   "metadata": {},
   "outputs": [
    {
     "name": "stdout",
     "output_type": "stream",
     "text": [
      "R2: 0.8550640453787186\n"
     ]
    }
   ],
   "source": [
    "from sklearn.metrics import r2_score\n",
    "yhat = new_model.predict(X_test)\n",
    "R2_score = r2_score(y_test,yhat)\n",
    "print('R2:', R2_score)"
   ]
  },
  {
   "cell_type": "code",
   "execution_count": 9,
   "metadata": {},
   "outputs": [
    {
     "name": "stdout",
     "output_type": "stream",
     "text": [
      "MSE: 45.96463934097076\n"
     ]
    }
   ],
   "source": [
    "from sklearn.metrics import mean_squared_error\n",
    "MSE_score = mean_squared_error(y_test,yhat)\n",
    "print('MSE:', MSE_score)"
   ]
  },
  {
   "cell_type": "code",
   "execution_count": 10,
   "metadata": {},
   "outputs": [
    {
     "data": {
      "text/plain": [
       "array([0.03036709, 0.10983883, 0.85979408])"
      ]
     },
     "execution_count": 10,
     "metadata": {},
     "output_type": "execute_result"
    }
   ],
   "source": [
    "#ver importancia de las variables\n",
    "new_model.feature_importances_#Entre mas grande mejor, la 3 es la mas importante"
   ]
  },
  {
   "cell_type": "code",
   "execution_count": 11,
   "metadata": {},
   "outputs": [
    {
     "data": {
      "text/plain": [
       "[Text(0.5277777777777778, 0.9285714285714286, 'X[2] <= 7.715\\nsquared_error = 237.641\\nsamples = 80\\nvalue = 9.797'),\n",
       " Text(0.2777777777777778, 0.7857142857142857, 'X[2] <= 3.156\\nsquared_error = 91.399\\nsamples = 40\\nvalue = -2.229'),\n",
       " Text(0.1111111111111111, 0.6428571428571429, 'X[1] <= 4.106\\nsquared_error = 45.517\\nsamples = 16\\nvalue = -10.846'),\n",
       " Text(0.05555555555555555, 0.5, 'squared_error = 10.568\\nsamples = 5\\nvalue = -2.909'),\n",
       " Text(0.16666666666666666, 0.5, 'X[1] <= 7.719\\nsquared_error = 19.744\\nsamples = 11\\nvalue = -14.455'),\n",
       " Text(0.1111111111111111, 0.35714285714285715, 'squared_error = 4.224\\nsamples = 7\\nvalue = -12.174'),\n",
       " Text(0.2222222222222222, 0.35714285714285715, 'squared_error = 21.87\\nsamples = 4\\nvalue = -18.446'),\n",
       " Text(0.4444444444444444, 0.6428571428571429, 'X[1] <= 6.655\\nsquared_error = 39.467\\nsamples = 24\\nvalue = 3.517'),\n",
       " Text(0.3888888888888889, 0.5, 'X[1] <= 3.499\\nsquared_error = 15.55\\nsamples = 15\\nvalue = 6.857'),\n",
       " Text(0.3333333333333333, 0.35714285714285715, 'squared_error = 17.729\\nsamples = 7\\nvalue = 9.215'),\n",
       " Text(0.4444444444444444, 0.35714285714285715, 'squared_error = 4.519\\nsamples = 8\\nvalue = 4.793'),\n",
       " Text(0.5, 0.5, 'squared_error = 29.75\\nsamples = 9\\nvalue = -2.05'),\n",
       " Text(0.7777777777777778, 0.7857142857142857, 'X[2] <= 13.024\\nsquared_error = 94.655\\nsamples = 40\\nvalue = 21.823'),\n",
       " Text(0.6666666666666666, 0.6428571428571429, 'X[0] <= 3.897\\nsquared_error = 56.681\\nsamples = 26\\nvalue = 17.319'),\n",
       " Text(0.6111111111111112, 0.5, 'X[1] <= 3.25\\nsquared_error = 37.177\\nsamples = 21\\nvalue = 15.089'),\n",
       " Text(0.5555555555555556, 0.35714285714285715, 'squared_error = 12.716\\nsamples = 5\\nvalue = 21.854'),\n",
       " Text(0.6666666666666666, 0.35714285714285715, 'X[1] <= 9.123\\nsquared_error = 26.046\\nsamples = 16\\nvalue = 12.974'),\n",
       " Text(0.6111111111111112, 0.21428571428571427, 'X[2] <= 9.607\\nsquared_error = 18.691\\nsamples = 14\\nvalue = 14.094'),\n",
       " Text(0.5555555555555556, 0.07142857142857142, 'squared_error = 15.603\\nsamples = 7\\nvalue = 11.297'),\n",
       " Text(0.6666666666666666, 0.07142857142857142, 'squared_error = 6.129\\nsamples = 7\\nvalue = 16.892'),\n",
       " Text(0.7222222222222222, 0.21428571428571427, 'squared_error = 7.262\\nsamples = 2\\nvalue = 5.133'),\n",
       " Text(0.7222222222222222, 0.5, 'squared_error = 29.987\\nsamples = 5\\nvalue = 26.685'),\n",
       " Text(0.8888888888888888, 0.6428571428571429, 'X[1] <= 7.633\\nsquared_error = 57.537\\nsamples = 14\\nvalue = 30.187'),\n",
       " Text(0.8333333333333334, 0.5, 'X[2] <= 14.511\\nsquared_error = 30.836\\nsamples = 11\\nvalue = 33.134'),\n",
       " Text(0.7777777777777778, 0.35714285714285715, 'squared_error = 8.803\\nsamples = 8\\nvalue = 30.458'),\n",
       " Text(0.8888888888888888, 0.35714285714285715, 'squared_error = 19.592\\nsamples = 3\\nvalue = 40.269'),\n",
       " Text(0.9444444444444444, 0.5, 'squared_error = 6.84\\nsamples = 3\\nvalue = 19.382')]"
      ]
     },
     "execution_count": 11,
     "metadata": {},
     "output_type": "execute_result"
    },
    {
     "data": {
      "image/png": "[encoded data removed]",
      "text/plain": [
       "<Figure size 432x288 with 1 Axes>"
      ]
     },
     "metadata": {
      "needs_background": "light"
     },
     "output_type": "display_data"
    }
   ],
   "source": [
    "from sklearn import tree\n",
    "tree.plot_tree(new_model) "
   ]
  },
  {
   "cell_type": "code",
   "execution_count": 12,
   "metadata": {},
   "outputs": [],
   "source": [
    "#correr en jupyter notebook:\n",
    "#pip install graphviz\n",
    "\n",
    "#correr en la consola de anaconda\n",
    "#conda install python-graphviz"
   ]
  },
  {
   "cell_type": "code",
   "execution_count": 13,
   "metadata": {},
   "outputs": [
    {
     "data": {
      "text/plain": [
       "'trees_gen\\\\tree_multipredict.pdf'"
      ]
     },
     "execution_count": 13,
     "metadata": {},
     "output_type": "execute_result"
    }
   ],
   "source": [
    "import graphviz\n",
    "dot_data = tree.export_graphviz(new_model, out_file=None)\n",
    "graph = graphviz.Source(dot_data)\n",
    "graph.render(\"trees_gen/tree_multipredict\")"
   ]
  },
  {
   "cell_type": "markdown",
   "metadata": {},
   "source": [
    "**Ventajas de los árboles de decisión**\n",
    "\n",
    "- No requiere escalamiento de variables\n",
    "- Puede  ser usado para datos no lineales\n",
    "- Fácil de visualizar\n",
    "- Fácil de interpretar\n",
    "\n",
    "**Desventajas de los árboles de decisión**\n",
    "\n",
    "- Es computancionalmente complejo, especialmente al usar cross-validation para ajustar los hiperparámetros\n",
    "- Un cambio pequeño en los datos puede causar grandes cambios en la estructura del árbol"
   ]
  },
  {
   "cell_type": "code",
   "execution_count": null,
   "metadata": {},
   "outputs": [],
   "source": []
  }
 ],
 "metadata": {
  "kernelspec": {
   "display_name": "Python 3 (ipykernel)",
   "language": "python",
   "name": "python3"
  },
  "language_info": {
   "codemirror_mode": {
    "name": "ipython",
    "version": 3
   },
   "file_extension": ".py",
   "mimetype": "text/x-python",
   "name": "python",
   "nbconvert_exporter": "python",
   "pygments_lexer": "ipython3",
   "version": "3.9.7"
  }
 },
 "nbformat": 4,
 "nbformat_minor": 4
}
